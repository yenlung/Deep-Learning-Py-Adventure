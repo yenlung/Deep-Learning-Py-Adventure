{
 "cells": [
  {
   "cell_type": "code",
   "execution_count": 1,
   "metadata": {},
   "outputs": [],
   "source": [
    "%matplotlib inline\n",
    "\n",
    "import numpy as np\n",
    "import pandas as pd\n",
    "import matplotlib.pyplot"
   ]
  },
  {
   "cell_type": "markdown",
   "metadata": {},
   "source": [
    "### 01. 輸入文字資料\n",
    "\n",
    "我們從 PTT 找到一些評論的資料, 數量很少只是當練習使用。我們把資料存成 `.csv` 檔, 但因為文字有時會有半型逗號, 因此我們用 `*` 號分隔。格式如下 (正評):\n",
    "\n",
    "    一則評論*1\n",
    "    \n",
    "負評自然就是 0。"
   ]
  },
  {
   "cell_type": "code",
   "execution_count": 2,
   "metadata": {},
   "outputs": [],
   "source": [
    "df = pd.read_csv('data/review.csv', sep='*')"
   ]
  },
  {
   "cell_type": "code",
   "execution_count": 3,
   "metadata": {},
   "outputs": [
    {
     "data": {
      "text/html": [
       "<div>\n",
       "<style scoped>\n",
       "    .dataframe tbody tr th:only-of-type {\n",
       "        vertical-align: middle;\n",
       "    }\n",
       "\n",
       "    .dataframe tbody tr th {\n",
       "        vertical-align: top;\n",
       "    }\n",
       "\n",
       "    .dataframe thead th {\n",
       "        text-align: right;\n",
       "    }\n",
       "</style>\n",
       "<table border=\"1\" class=\"dataframe\">\n",
       "  <thead>\n",
       "    <tr style=\"text-align: right;\">\n",
       "      <th></th>\n",
       "      <th>評論</th>\n",
       "      <th>正負評</th>\n",
       "    </tr>\n",
       "  </thead>\n",
       "  <tbody>\n",
       "    <tr>\n",
       "      <th>0</th>\n",
       "      <td>蠻穩定的 行車記錄器就是要穩 其他其次</td>\n",
       "      <td>1</td>\n",
       "    </tr>\n",
       "    <tr>\n",
       "      <th>1</th>\n",
       "      <td>流媒體不錯 晚上又清楚</td>\n",
       "      <td>1</td>\n",
       "    </tr>\n",
       "    <tr>\n",
       "      <th>2</th>\n",
       "      <td>最近有裝 A129 pro duo，畫質不錯，之前mio 791d用兩年也沒遇到問題</td>\n",
       "      <td>1</td>\n",
       "    </tr>\n",
       "    <tr>\n",
       "      <th>3</th>\n",
       "      <td>mio 後鏡頭一直斷線 拉線要很注意 很麻煩</td>\n",
       "      <td>0</td>\n",
       "    </tr>\n",
       "    <tr>\n",
       "      <th>4</th>\n",
       "      <td>晚上只有cansonic z3這種有望遠鏡的才拍的到</td>\n",
       "      <td>1</td>\n",
       "    </tr>\n",
       "  </tbody>\n",
       "</table>\n",
       "</div>"
      ],
      "text/plain": [
       "                                           評論  正負評\n",
       "0                         蠻穩定的 行車記錄器就是要穩 其他其次    1\n",
       "1                                 流媒體不錯 晚上又清楚    1\n",
       "2  最近有裝 A129 pro duo，畫質不錯，之前mio 791d用兩年也沒遇到問題    1\n",
       "3                      mio 後鏡頭一直斷線 拉線要很注意 很麻煩    0\n",
       "4                  晚上只有cansonic z3這種有望遠鏡的才拍的到    1"
      ]
     },
     "execution_count": 3,
     "metadata": {},
     "output_type": "execute_result"
    }
   ],
   "source": [
    "df.head()"
   ]
  },
  {
   "cell_type": "markdown",
   "metadata": {},
   "source": [
    "### 02. 找出中文的部份\n",
    "\n",
    "對不同任務, 我們可能會有不同考量。這裡因為我們只是想知道這則評論是正評還是負評, 對於牌子啦、型號等等我們就不保留。\n",
    "\n",
    "用 Regular Expression 很容易做到。在 Python 裡要實現 regular expression 可以用 `re` 套件。"
   ]
  },
  {
   "cell_type": "code",
   "execution_count": 4,
   "metadata": {},
   "outputs": [],
   "source": [
    "import re"
   ]
  },
  {
   "cell_type": "markdown",
   "metadata": {},
   "source": [
    "使用上我們就是先規定一下一個 pattern, 就是要找的文字需符合什麼要求, 中文文字的範圍在 unicode 中是:\n",
    "\n",
    "    u4E00 - u9FD5\n",
    "    \n",
    "於是我們說看到這, 而後面也符合這個就一起要下來。這樣還能自動斷句。"
   ]
  },
  {
   "cell_type": "code",
   "execution_count": 5,
   "metadata": {},
   "outputs": [],
   "source": [
    "patn=re.compile(r\"[\\u4E00-\\u9FD5]+\")"
   ]
  },
  {
   "cell_type": "markdown",
   "metadata": {},
   "source": [
    "我們拿一則評論試試。"
   ]
  },
  {
   "cell_type": "code",
   "execution_count": 6,
   "metadata": {},
   "outputs": [],
   "source": [
    "X = df['評論'][3]"
   ]
  },
  {
   "cell_type": "code",
   "execution_count": 7,
   "metadata": {},
   "outputs": [
    {
     "data": {
      "text/plain": [
       "'mio 後鏡頭一直斷線 拉線要很注意 很麻煩'"
      ]
     },
     "execution_count": 7,
     "metadata": {},
     "output_type": "execute_result"
    }
   ],
   "source": [
    "X"
   ]
  },
  {
   "cell_type": "markdown",
   "metadata": {},
   "source": [
    "用我們的 pattern 試試能不能只留下中文的部份。"
   ]
  },
  {
   "cell_type": "code",
   "execution_count": 8,
   "metadata": {},
   "outputs": [
    {
     "data": {
      "text/plain": [
       "['後鏡頭一直斷線', '拉線要很注意', '很麻煩']"
      ]
     },
     "execution_count": 8,
     "metadata": {},
     "output_type": "execute_result"
    }
   ],
   "source": [
    "patn.findall(X)"
   ]
  },
  {
   "cell_type": "markdown",
   "metadata": {},
   "source": [
    "成功了! 我們應用到所有的句子上。"
   ]
  },
  {
   "cell_type": "code",
   "execution_count": 9,
   "metadata": {},
   "outputs": [
    {
     "name": "stdout",
     "output_type": "stream",
     "text": [
      "['蠻穩定的', '行車記錄器就是要穩', '其他其次']\n",
      "['流媒體不錯', '晚上又清楚']\n",
      "['最近有裝', '畫質不錯', '之前', '用兩年也沒遇到問題']\n",
      "['後鏡頭一直斷線', '拉線要很注意', '很麻煩']\n",
      "['晚上只有', '這種有望遠鏡的才拍的到']\n",
      "['邁不錯']\n",
      "['現在新的', '錄一錄會一直出現記憶卡損壞的語音就停止了', '要重裝記憶卡不知道是只有這台']\n",
      "['邁後視鏡含夜光後視', '六月裝家裡兩台老車', '後視都裝在車外', '目前都正常', '便宜好選擇']\n",
      "['我要跟你說', '他的導航是廢渣', '要用他的導航才能顯示左轉右轉和路名']\n",
      "['以前用很久', '放', '還行']\n",
      "['不過用久了', '像深灰色款的會慢慢變淡一點']\n",
      "['我用了快五年了', '持續使用中']\n",
      "['我覺得很好用']\n",
      "['用過一款', '吋包超過十年', '很滿意']\n",
      "['個人頗推這個牌子好看又耐用']\n",
      "['上次買到', '折以後約', '年還在用']\n",
      "['這個沒有', '充電呀']\n",
      "['我剛好有買這款', '因為有三個', '插槽才買的', '質感還算不錯', '平常會外接螢幕使用', '會熱但不至於到燙', '跟充電都不會影響']\n"
     ]
    }
   ],
   "source": [
    "for review in df['評論']:\n",
    "    print(patn.findall(review))"
   ]
  },
  {
   "cell_type": "markdown",
   "metadata": {},
   "source": [
    "### 03. 化資料為我們要的形式\n",
    "\n",
    "這時我們又發現, 有個新的問題, 那就是到底要不要考慮句子的分隔? 還是把整句都連起來? 我們這裡用空白把連起來。"
   ]
  },
  {
   "cell_type": "code",
   "execution_count": 10,
   "metadata": {},
   "outputs": [],
   "source": [
    "x_tmp = []\n",
    "\n",
    "for review in df['評論']:\n",
    "    sen_list = patn.findall(review)\n",
    "    sen = ' '.join(sen_list)\n",
    "    x_tmp.append(sen)"
   ]
  },
  {
   "cell_type": "markdown",
   "metadata": {},
   "source": [
    "我們可以看到, 目前 `x_tmp` 裡就是我們要的句子的樣子了。"
   ]
  },
  {
   "cell_type": "code",
   "execution_count": 11,
   "metadata": {},
   "outputs": [
    {
     "data": {
      "text/plain": [
       "['蠻穩定的 行車記錄器就是要穩 其他其次',\n",
       " '流媒體不錯 晚上又清楚',\n",
       " '最近有裝 畫質不錯 之前 用兩年也沒遇到問題',\n",
       " '後鏡頭一直斷線 拉線要很注意 很麻煩',\n",
       " '晚上只有 這種有望遠鏡的才拍的到',\n",
       " '邁不錯',\n",
       " '現在新的 錄一錄會一直出現記憶卡損壞的語音就停止了 要重裝記憶卡不知道是只有這台',\n",
       " '邁後視鏡含夜光後視 六月裝家裡兩台老車 後視都裝在車外 目前都正常 便宜好選擇',\n",
       " '我要跟你說 他的導航是廢渣 要用他的導航才能顯示左轉右轉和路名',\n",
       " '以前用很久 放 還行',\n",
       " '不過用久了 像深灰色款的會慢慢變淡一點',\n",
       " '我用了快五年了 持續使用中',\n",
       " '我覺得很好用',\n",
       " '用過一款 吋包超過十年 很滿意',\n",
       " '個人頗推這個牌子好看又耐用',\n",
       " '上次買到 折以後約 年還在用',\n",
       " '這個沒有 充電呀',\n",
       " '我剛好有買這款 因為有三個 插槽才買的 質感還算不錯 平常會外接螢幕使用 會熱但不至於到燙 跟充電都不會影響']"
      ]
     },
     "execution_count": 11,
     "metadata": {},
     "output_type": "execute_result"
    }
   ],
   "source": [
    "x_tmp"
   ]
  },
  {
   "cell_type": "markdown",
   "metadata": {},
   "source": [
    "### 04. 計算字出現的頻率\n",
    "\n",
    "最後我們要做的是計算每個字出現的次數, 越常出現的字編號越前面。還有那空白我們準備把它編號 0, 就不參加排序。\n",
    "\n",
    "我們先用一個例子小試身手。"
   ]
  },
  {
   "cell_type": "code",
   "execution_count": 12,
   "metadata": {},
   "outputs": [],
   "source": [
    "X = x_tmp[3]"
   ]
  },
  {
   "cell_type": "code",
   "execution_count": 13,
   "metadata": {},
   "outputs": [
    {
     "data": {
      "text/plain": [
       "'後鏡頭一直斷線 拉線要很注意 很麻煩'"
      ]
     },
     "execution_count": 13,
     "metadata": {},
     "output_type": "execute_result"
    }
   ],
   "source": [
    "X"
   ]
  },
  {
   "cell_type": "markdown",
   "metadata": {},
   "source": [
    "我們不要空白的話是這樣... (等於回到以前)"
   ]
  },
  {
   "cell_type": "code",
   "execution_count": 14,
   "metadata": {},
   "outputs": [
    {
     "data": {
      "text/plain": [
       "['後鏡頭一直斷線', '拉線要很注意', '很麻煩']"
      ]
     },
     "execution_count": 14,
     "metadata": {},
     "output_type": "execute_result"
    }
   ],
   "source": [
    "X.split()"
   ]
  },
  {
   "cell_type": "markdown",
   "metadata": {},
   "source": [
    "自然全部合起來就是沒有空白的了!"
   ]
  },
  {
   "cell_type": "code",
   "execution_count": 15,
   "metadata": {},
   "outputs": [
    {
     "data": {
      "text/plain": [
       "'後鏡頭一直斷線拉線要很注意很麻煩'"
      ]
     },
     "execution_count": 15,
     "metadata": {},
     "output_type": "execute_result"
    }
   ],
   "source": [
    "''.join(X.split())"
   ]
  },
  {
   "cell_type": "markdown",
   "metadata": {},
   "source": [
    "現在我們來做全部文字放在一起的字串!"
   ]
  },
  {
   "cell_type": "code",
   "execution_count": 16,
   "metadata": {},
   "outputs": [],
   "source": [
    "egg = ''.join(''.join(x_tmp).split())"
   ]
  },
  {
   "cell_type": "code",
   "execution_count": 17,
   "metadata": {},
   "outputs": [
    {
     "data": {
      "text/plain": [
       "'蠻穩定的行車記錄器就是要穩其他其次流媒體不錯晚上又清楚最近有裝畫質不錯之前用兩年也沒遇到問題後鏡頭一直斷線拉線要很注意很麻煩晚上只有這種有望遠鏡的才拍的到邁不錯現在新的錄一錄會一直出現記憶卡損壞的語音就停止了要重裝記憶卡不知道是只有這台邁後視鏡含夜光後視六月裝家裡兩台老車後視都裝在車外目前都正常便宜好選擇我要跟你說他的導航是廢渣要用他的導航才能顯示左轉右轉和路名以前用很久放還行不過用久了像深灰色款的會慢慢變淡一點我用了快五年了持續使用中我覺得很好用用過一款吋包超過十年很滿意個人頗推這個牌子好看又耐用上次買到折以後約年還在用這個沒有充電呀我剛好有買這款因為有三個插槽才買的質感還算不錯平常會外接螢幕使用會熱但不至於到燙跟充電都不會影響'"
      ]
     },
     "execution_count": 17,
     "metadata": {},
     "output_type": "execute_result"
    }
   ],
   "source": [
    "egg"
   ]
  },
  {
   "cell_type": "code",
   "execution_count": 18,
   "metadata": {},
   "outputs": [],
   "source": [
    "count = {}"
   ]
  },
  {
   "cell_type": "code",
   "execution_count": 19,
   "metadata": {},
   "outputs": [],
   "source": [
    "for char in egg:\n",
    "    if char in count.keys():\n",
    "        count[char] += 1\n",
    "    else:\n",
    "        count[char] = 1   "
   ]
  },
  {
   "cell_type": "code",
   "execution_count": 20,
   "metadata": {},
   "outputs": [
    {
     "data": {
      "text/plain": [
       "{'蠻': 1,\n",
       " '穩': 2,\n",
       " '定': 1,\n",
       " '的': 9,\n",
       " '行': 2,\n",
       " '車': 3,\n",
       " '記': 3,\n",
       " '錄': 3,\n",
       " '器': 1,\n",
       " '就': 2,\n",
       " '是': 3,\n",
       " '要': 5,\n",
       " '其': 2,\n",
       " '他': 3,\n",
       " '次': 2,\n",
       " '流': 1,\n",
       " '媒': 1,\n",
       " '體': 1,\n",
       " '不': 8,\n",
       " '錯': 4,\n",
       " '晚': 2,\n",
       " '上': 3,\n",
       " '又': 2,\n",
       " '清': 1,\n",
       " '楚': 1,\n",
       " '最': 1,\n",
       " '近': 1,\n",
       " '有': 7,\n",
       " '裝': 4,\n",
       " '畫': 1,\n",
       " '質': 2,\n",
       " '之': 1,\n",
       " '前': 3,\n",
       " '用': 11,\n",
       " '兩': 2,\n",
       " '年': 4,\n",
       " '也': 1,\n",
       " '沒': 2,\n",
       " '遇': 1,\n",
       " '到': 4,\n",
       " '問': 1,\n",
       " '題': 1,\n",
       " '後': 5,\n",
       " '鏡': 3,\n",
       " '頭': 1,\n",
       " '一': 5,\n",
       " '直': 2,\n",
       " '斷': 1,\n",
       " '線': 2,\n",
       " '拉': 1,\n",
       " '很': 5,\n",
       " '注': 1,\n",
       " '意': 2,\n",
       " '麻': 1,\n",
       " '煩': 1,\n",
       " '只': 2,\n",
       " '這': 5,\n",
       " '種': 1,\n",
       " '望': 1,\n",
       " '遠': 1,\n",
       " '才': 3,\n",
       " '拍': 1,\n",
       " '邁': 2,\n",
       " '現': 2,\n",
       " '在': 3,\n",
       " '新': 1,\n",
       " '會': 5,\n",
       " '出': 1,\n",
       " '憶': 2,\n",
       " '卡': 2,\n",
       " '損': 1,\n",
       " '壞': 1,\n",
       " '語': 1,\n",
       " '音': 1,\n",
       " '停': 1,\n",
       " '止': 1,\n",
       " '了': 4,\n",
       " '重': 1,\n",
       " '知': 1,\n",
       " '道': 1,\n",
       " '台': 2,\n",
       " '視': 3,\n",
       " '含': 1,\n",
       " '夜': 1,\n",
       " '光': 1,\n",
       " '六': 1,\n",
       " '月': 1,\n",
       " '家': 1,\n",
       " '裡': 1,\n",
       " '老': 1,\n",
       " '都': 3,\n",
       " '外': 2,\n",
       " '目': 1,\n",
       " '正': 1,\n",
       " '常': 2,\n",
       " '便': 1,\n",
       " '宜': 1,\n",
       " '好': 4,\n",
       " '選': 1,\n",
       " '擇': 1,\n",
       " '我': 4,\n",
       " '跟': 2,\n",
       " '你': 1,\n",
       " '說': 1,\n",
       " '導': 2,\n",
       " '航': 2,\n",
       " '廢': 1,\n",
       " '渣': 1,\n",
       " '能': 1,\n",
       " '顯': 1,\n",
       " '示': 1,\n",
       " '左': 1,\n",
       " '轉': 2,\n",
       " '右': 1,\n",
       " '和': 1,\n",
       " '路': 1,\n",
       " '名': 1,\n",
       " '以': 2,\n",
       " '久': 2,\n",
       " '放': 1,\n",
       " '還': 3,\n",
       " '過': 3,\n",
       " '像': 1,\n",
       " '深': 1,\n",
       " '灰': 1,\n",
       " '色': 1,\n",
       " '款': 3,\n",
       " '慢': 2,\n",
       " '變': 1,\n",
       " '淡': 1,\n",
       " '點': 1,\n",
       " '快': 1,\n",
       " '五': 1,\n",
       " '持': 1,\n",
       " '續': 1,\n",
       " '使': 2,\n",
       " '中': 1,\n",
       " '覺': 1,\n",
       " '得': 1,\n",
       " '吋': 1,\n",
       " '包': 1,\n",
       " '超': 1,\n",
       " '十': 1,\n",
       " '滿': 1,\n",
       " '個': 4,\n",
       " '人': 1,\n",
       " '頗': 1,\n",
       " '推': 1,\n",
       " '牌': 1,\n",
       " '子': 1,\n",
       " '看': 1,\n",
       " '耐': 1,\n",
       " '買': 3,\n",
       " '折': 1,\n",
       " '約': 1,\n",
       " '充': 2,\n",
       " '電': 2,\n",
       " '呀': 1,\n",
       " '剛': 1,\n",
       " '因': 1,\n",
       " '為': 1,\n",
       " '三': 1,\n",
       " '插': 1,\n",
       " '槽': 1,\n",
       " '感': 1,\n",
       " '算': 1,\n",
       " '平': 1,\n",
       " '接': 1,\n",
       " '螢': 1,\n",
       " '幕': 1,\n",
       " '熱': 1,\n",
       " '但': 1,\n",
       " '至': 1,\n",
       " '於': 1,\n",
       " '燙': 1,\n",
       " '影': 1,\n",
       " '響': 1}"
      ]
     },
     "execution_count": 20,
     "metadata": {},
     "output_type": "execute_result"
    }
   ],
   "source": [
    "count"
   ]
  },
  {
   "cell_type": "markdown",
   "metadata": {},
   "source": [
    "### 05. 給每個字一個編號\n",
    "\n",
    "現在我們要給每個字一個 1, 2, 3 這樣的編號。Shannon 的 Information Theory 告訴我們, 越常出現的字, 應該排在越前面。於是我們需要對前面 `count` 字典中的 values (也就是字出現的次數) 排序。"
   ]
  },
  {
   "cell_type": "code",
   "execution_count": 22,
   "metadata": {},
   "outputs": [
    {
     "data": {
      "text/plain": [
       "['用',\n",
       " '的',\n",
       " '不',\n",
       " '有',\n",
       " '要',\n",
       " '後',\n",
       " '一',\n",
       " '很',\n",
       " '這',\n",
       " '會',\n",
       " '錯',\n",
       " '裝',\n",
       " '年',\n",
       " '到',\n",
       " '了',\n",
       " '好',\n",
       " '我',\n",
       " '個',\n",
       " '車',\n",
       " '記',\n",
       " '錄',\n",
       " '是',\n",
       " '他',\n",
       " '上',\n",
       " '前',\n",
       " '鏡',\n",
       " '才',\n",
       " '在',\n",
       " '視',\n",
       " '都',\n",
       " '還',\n",
       " '過',\n",
       " '款',\n",
       " '買',\n",
       " '穩',\n",
       " '行',\n",
       " '就',\n",
       " '其',\n",
       " '次',\n",
       " '晚',\n",
       " '又',\n",
       " '質',\n",
       " '兩',\n",
       " '沒',\n",
       " '直',\n",
       " '線',\n",
       " '意',\n",
       " '只',\n",
       " '邁',\n",
       " '現',\n",
       " '憶',\n",
       " '卡',\n",
       " '台',\n",
       " '外',\n",
       " '常',\n",
       " '跟',\n",
       " '導',\n",
       " '航',\n",
       " '轉',\n",
       " '以',\n",
       " '久',\n",
       " '慢',\n",
       " '使',\n",
       " '充',\n",
       " '電',\n",
       " '蠻',\n",
       " '定',\n",
       " '器',\n",
       " '流',\n",
       " '媒',\n",
       " '體',\n",
       " '清',\n",
       " '楚',\n",
       " '最',\n",
       " '近',\n",
       " '畫',\n",
       " '之',\n",
       " '也',\n",
       " '遇',\n",
       " '問',\n",
       " '題',\n",
       " '頭',\n",
       " '斷',\n",
       " '拉',\n",
       " '注',\n",
       " '麻',\n",
       " '煩',\n",
       " '種',\n",
       " '望',\n",
       " '遠',\n",
       " '拍',\n",
       " '新',\n",
       " '出',\n",
       " '損',\n",
       " '壞',\n",
       " '語',\n",
       " '音',\n",
       " '停',\n",
       " '止',\n",
       " '重',\n",
       " '知',\n",
       " '道',\n",
       " '含',\n",
       " '夜',\n",
       " '光',\n",
       " '六',\n",
       " '月',\n",
       " '家',\n",
       " '裡',\n",
       " '老',\n",
       " '目',\n",
       " '正',\n",
       " '便',\n",
       " '宜',\n",
       " '選',\n",
       " '擇',\n",
       " '你',\n",
       " '說',\n",
       " '廢',\n",
       " '渣',\n",
       " '能',\n",
       " '顯',\n",
       " '示',\n",
       " '左',\n",
       " '右',\n",
       " '和',\n",
       " '路',\n",
       " '名',\n",
       " '放',\n",
       " '像',\n",
       " '深',\n",
       " '灰',\n",
       " '色',\n",
       " '變',\n",
       " '淡',\n",
       " '點',\n",
       " '快',\n",
       " '五',\n",
       " '持',\n",
       " '續',\n",
       " '中',\n",
       " '覺',\n",
       " '得',\n",
       " '吋',\n",
       " '包',\n",
       " '超',\n",
       " '十',\n",
       " '滿',\n",
       " '人',\n",
       " '頗',\n",
       " '推',\n",
       " '牌',\n",
       " '子',\n",
       " '看',\n",
       " '耐',\n",
       " '折',\n",
       " '約',\n",
       " '呀',\n",
       " '剛',\n",
       " '因',\n",
       " '為',\n",
       " '三',\n",
       " '插',\n",
       " '槽',\n",
       " '感',\n",
       " '算',\n",
       " '平',\n",
       " '接',\n",
       " '螢',\n",
       " '幕',\n",
       " '熱',\n",
       " '但',\n",
       " '至',\n",
       " '於',\n",
       " '燙',\n",
       " '影',\n",
       " '響']"
      ]
     },
     "execution_count": 22,
     "metadata": {},
     "output_type": "execute_result"
    }
   ],
   "source": [
    "sorted(count, key=count.get,  reverse=True)"
   ]
  },
  {
   "cell_type": "markdown",
   "metadata": {},
   "source": [
    "於是我們只要「照順序」給 1, 2, 3, ... 就好了。Python 可不可以直接做這件事呢? 用 `enumerate` 是一個方式。 "
   ]
  },
  {
   "cell_type": "code",
   "execution_count": 23,
   "metadata": {},
   "outputs": [],
   "source": [
    "egg = sorted(count, key=count.get,  reverse=True)"
   ]
  },
  {
   "cell_type": "code",
   "execution_count": 24,
   "metadata": {},
   "outputs": [
    {
     "name": "stdout",
     "output_type": "stream",
     "text": [
      "用 1\n",
      "的 2\n",
      "不 3\n",
      "有 4\n",
      "要 5\n",
      "後 6\n",
      "一 7\n",
      "很 8\n",
      "這 9\n",
      "會 10\n",
      "錯 11\n",
      "裝 12\n",
      "年 13\n",
      "到 14\n",
      "了 15\n",
      "好 16\n",
      "我 17\n",
      "個 18\n",
      "車 19\n",
      "記 20\n",
      "錄 21\n",
      "是 22\n",
      "他 23\n",
      "上 24\n",
      "前 25\n",
      "鏡 26\n",
      "才 27\n",
      "在 28\n",
      "視 29\n",
      "都 30\n",
      "還 31\n",
      "過 32\n",
      "款 33\n",
      "買 34\n",
      "穩 35\n",
      "行 36\n",
      "就 37\n",
      "其 38\n",
      "次 39\n",
      "晚 40\n",
      "又 41\n",
      "質 42\n",
      "兩 43\n",
      "沒 44\n",
      "直 45\n",
      "線 46\n",
      "意 47\n",
      "只 48\n",
      "邁 49\n",
      "現 50\n",
      "憶 51\n",
      "卡 52\n",
      "台 53\n",
      "外 54\n",
      "常 55\n",
      "跟 56\n",
      "導 57\n",
      "航 58\n",
      "轉 59\n",
      "以 60\n",
      "久 61\n",
      "慢 62\n",
      "使 63\n",
      "充 64\n",
      "電 65\n",
      "蠻 66\n",
      "定 67\n",
      "器 68\n",
      "流 69\n",
      "媒 70\n",
      "體 71\n",
      "清 72\n",
      "楚 73\n",
      "最 74\n",
      "近 75\n",
      "畫 76\n",
      "之 77\n",
      "也 78\n",
      "遇 79\n",
      "問 80\n",
      "題 81\n",
      "頭 82\n",
      "斷 83\n",
      "拉 84\n",
      "注 85\n",
      "麻 86\n",
      "煩 87\n",
      "種 88\n",
      "望 89\n",
      "遠 90\n",
      "拍 91\n",
      "新 92\n",
      "出 93\n",
      "損 94\n",
      "壞 95\n",
      "語 96\n",
      "音 97\n",
      "停 98\n",
      "止 99\n",
      "重 100\n",
      "知 101\n",
      "道 102\n",
      "含 103\n",
      "夜 104\n",
      "光 105\n",
      "六 106\n",
      "月 107\n",
      "家 108\n",
      "裡 109\n",
      "老 110\n",
      "目 111\n",
      "正 112\n",
      "便 113\n",
      "宜 114\n",
      "選 115\n",
      "擇 116\n",
      "你 117\n",
      "說 118\n",
      "廢 119\n",
      "渣 120\n",
      "能 121\n",
      "顯 122\n",
      "示 123\n",
      "左 124\n",
      "右 125\n",
      "和 126\n",
      "路 127\n",
      "名 128\n",
      "放 129\n",
      "像 130\n",
      "深 131\n",
      "灰 132\n",
      "色 133\n",
      "變 134\n",
      "淡 135\n",
      "點 136\n",
      "快 137\n",
      "五 138\n",
      "持 139\n",
      "續 140\n",
      "中 141\n",
      "覺 142\n",
      "得 143\n",
      "吋 144\n",
      "包 145\n",
      "超 146\n",
      "十 147\n",
      "滿 148\n",
      "人 149\n",
      "頗 150\n",
      "推 151\n",
      "牌 152\n",
      "子 153\n",
      "看 154\n",
      "耐 155\n",
      "折 156\n",
      "約 157\n",
      "呀 158\n",
      "剛 159\n",
      "因 160\n",
      "為 161\n",
      "三 162\n",
      "插 163\n",
      "槽 164\n",
      "感 165\n",
      "算 166\n",
      "平 167\n",
      "接 168\n",
      "螢 169\n",
      "幕 170\n",
      "熱 171\n",
      "但 172\n",
      "至 173\n",
      "於 174\n",
      "燙 175\n",
      "影 176\n",
      "響 177\n"
     ]
    }
   ],
   "source": [
    "for i, char in enumerate(egg, 1):\n",
    "    print(char, i)"
   ]
  },
  {
   "cell_type": "markdown",
   "metadata": {},
   "source": [
    "我們把這做成一個字典。注意字點可以用很類似 list comprehension 的方式去定義。"
   ]
  },
  {
   "cell_type": "code",
   "execution_count": 25,
   "metadata": {},
   "outputs": [],
   "source": [
    "sorted_char = {char: i for i, char in enumerate(egg, 1)}"
   ]
  },
  {
   "cell_type": "markdown",
   "metadata": {},
   "source": [
    "試用一下!"
   ]
  },
  {
   "cell_type": "code",
   "execution_count": 26,
   "metadata": {},
   "outputs": [
    {
     "data": {
      "text/plain": [
       "2"
      ]
     },
     "execution_count": 26,
     "metadata": {},
     "output_type": "execute_result"
    }
   ],
   "source": [
    "sorted_char['的']"
   ]
  },
  {
   "cell_type": "markdown",
   "metadata": {},
   "source": [
    "記得我們前面說要把空白對到 0。"
   ]
  },
  {
   "cell_type": "code",
   "execution_count": 27,
   "metadata": {},
   "outputs": [],
   "source": [
    "sorted_char[\" \"] = 0"
   ]
  },
  {
   "cell_type": "markdown",
   "metadata": {},
   "source": [
    "於是我們字的對應就做好了!"
   ]
  },
  {
   "cell_type": "markdown",
   "metadata": {},
   "source": [
    "### 06. 把一句話用編碼顯示\n",
    "\n",
    "終於到了最後的時刻, 我們來把每句話編碼一下。記得前面我們範例有一個句子。"
   ]
  },
  {
   "cell_type": "code",
   "execution_count": 31,
   "metadata": {},
   "outputs": [
    {
     "data": {
      "text/plain": [
       "'後鏡頭一直斷線 拉線要很注意 很麻煩'"
      ]
     },
     "execution_count": 31,
     "metadata": {},
     "output_type": "execute_result"
    }
   ],
   "source": [
    "X"
   ]
  },
  {
   "cell_type": "markdown",
   "metadata": {},
   "source": [
    "要把這一一變成對應的數字, 要怎麼做呢? 一個方式是我們定義一個函數, 輸入是一個字, 輸出就是對應的編碼。也就是說:\n",
    "\n",
    "    char --> sorted_char[char]\n",
    "    \n",
    "要把這個函數用在我們的句字上, 就用 `map` 指令。"
   ]
  },
  {
   "cell_type": "code",
   "execution_count": 32,
   "metadata": {},
   "outputs": [
    {
     "data": {
      "text/plain": [
       "[6, 26, 82, 7, 45, 83, 46, 0, 84, 46, 5, 8, 85, 47, 0, 8, 86, 87]"
      ]
     },
     "execution_count": 32,
     "metadata": {},
     "output_type": "execute_result"
    }
   ],
   "source": [
    "list(map(lambda char:sorted_char[char], X))"
   ]
  },
  {
   "cell_type": "markdown",
   "metadata": {},
   "source": [
    "WOW! 這太炫了。我們終於可以完成我們的輸入部份。"
   ]
  },
  {
   "cell_type": "code",
   "execution_count": 33,
   "metadata": {},
   "outputs": [],
   "source": [
    "x = []\n",
    "\n",
    "for review in x_tmp:\n",
    "    record = list(map(lambda char:sorted_char[char], review))\n",
    "    x.append(record)"
   ]
  },
  {
   "cell_type": "markdown",
   "metadata": {},
   "source": [
    "再來做正確答案 y, 這就簡單多了。"
   ]
  },
  {
   "cell_type": "code",
   "execution_count": 37,
   "metadata": {},
   "outputs": [],
   "source": [
    "y = df[\"正負評\"].values"
   ]
  },
  {
   "cell_type": "code",
   "execution_count": 38,
   "metadata": {},
   "outputs": [
    {
     "data": {
      "text/plain": [
       "array([1, 1, 1, 0, 1, 1, 0, 1, 0, 1, 0, 1, 1, 1, 1, 1, 0, 1])"
      ]
     },
     "execution_count": 38,
     "metadata": {},
     "output_type": "execute_result"
    }
   ],
   "source": [
    "y"
   ]
  }
 ],
 "metadata": {
  "kernelspec": {
   "display_name": "Python 3",
   "language": "python",
   "name": "python3"
  },
  "language_info": {
   "codemirror_mode": {
    "name": "ipython",
    "version": 3
   },
   "file_extension": ".py",
   "mimetype": "text/x-python",
   "name": "python",
   "nbconvert_exporter": "python",
   "pygments_lexer": "ipython3",
   "version": "3.7.3"
  }
 },
 "nbformat": 4,
 "nbformat_minor": 4
}
